{
  "cells": [
    {
      "cell_type": "markdown",
      "metadata": {
        "id": "view-in-github",
        "colab_type": "text"
      },
      "source": [
        "<a href=\"https://colab.research.google.com/github/axel-sirota/ml_and_nlp/blob/main/1-Pre-NLP/3_Text_Processing_Logistic_Regression_and_Boosting.ipynb\" target=\"_parent\"><img src=\"https://colab.research.google.com/assets/colab-badge.svg\" alt=\"Open In Colab\"/></a>"
      ]
    },
    {
      "cell_type": "markdown",
      "metadata": {
        "id": "QBT0kSX6UkRJ"
      },
      "source": [
        "# Logistic Regression and Boosting Algorithms\n"
      ]
    },
    {
      "cell_type": "markdown",
      "metadata": {
        "id": "VK1ibhKLUkRW"
      },
      "source": [
        "<a id=\"predicting-a-categorical-response\"></a>\n",
        "## Predicting a Single Categorical Response\n",
        "---\n",
        "\n"
      ]
    },
    {
      "cell_type": "markdown",
      "source": [
        "### Installing stuff"
      ],
      "metadata": {
        "id": "KSob7NpKVP3i"
      }
    },
    {
      "cell_type": "code",
      "execution_count": null,
      "metadata": {
        "id": "ipxwHoE9HUCF"
      },
      "outputs": [],
      "source": [
        "!pip install --upgrade textblob spacy 'gensim==4.2.0' swifter keras_preprocessing"
      ]
    },
    {
      "cell_type": "code",
      "execution_count": null,
      "metadata": {
        "id": "VmP43_eVHUCG"
      },
      "outputs": [],
      "source": [
        "!python -m textblob.download_corpora lite\n",
        "!python -m spacy download en_core_web_sm"
      ]
    },
    {
      "cell_type": "code",
      "execution_count": null,
      "metadata": {
        "id": "h80K7JvGHUCJ"
      },
      "outputs": [],
      "source": [
        "import pandas as pd\n",
        "import numpy as np\n",
        "import scipy as sp\n",
        "from sklearn.model_selection import train_test_split\n",
        "from sklearn.feature_extraction.text import CountVectorizer, TfidfVectorizer\n",
        "from sklearn.naive_bayes import MultinomialNB         # Naive Bayes\n",
        "from sklearn.linear_model import LogisticRegression\n",
        "from sklearn import metrics\n",
        "from textblob import TextBlob, Word\n",
        "from nltk.stem.snowball import SnowballStemmer\n",
        "\n",
        "import spacy\n",
        "import gensim\n",
        "import warnings\n",
        "import nltk\n",
        "warnings.filterwarnings('ignore')\n",
        "nltk.download('punkt')\n",
        "textblob_tokenizer = lambda x: TextBlob(x).words\n"
      ]
    },
    {
      "cell_type": "code",
      "source": [
        "%%writefile get_data.sh\n",
        "if [ ! -f yelp.csv ]; then\n",
        "  wget -O yelp.csv https://www.dropbox.com/s/xds4lua69b7okw8/yelp.csv?dl=0\n",
        "fi"
      ],
      "metadata": {
        "id": "k6RoBSKKLvJw"
      },
      "execution_count": null,
      "outputs": []
    },
    {
      "cell_type": "code",
      "source": [
        "!bash get_data.sh"
      ],
      "metadata": {
        "id": "OcmMkgZqLxqW"
      },
      "execution_count": null,
      "outputs": []
    },
    {
      "cell_type": "code",
      "execution_count": null,
      "metadata": {
        "id": "-zG2McSWHUCK"
      },
      "outputs": [],
      "source": [
        "# Read yelp.csv into a DataFrame.\n",
        "path = './yelp.csv'\n",
        "yelp = pd.read_csv(path)\n",
        "# Create a new DataFrame that only contains the 5-star and 1-star reviews.\n",
        "yelp_best_worst = yelp[ (yelp.stars == 1) | (yelp.stars == 5) ]\n",
        "\n",
        "# Define X and y.\n",
        "X = yelp_best_worst.text\n",
        "y = yelp_best_worst.stars\n",
        "\n",
        "# Split the new DataFrame into training and testing sets.\n",
        "X_train, X_test, y_train, y_test = train_test_split(X, y, test_size=0.25, random_state=42)"
      ]
    },
    {
      "cell_type": "markdown",
      "metadata": {
        "id": "AUyePxrQUkRe"
      },
      "source": [
        "<a id=\"using-logistic-regression-for-classification\"></a>\n",
        "## Using Logistic Regression for Classification\n",
        "---\n",
        "\n"
      ]
    },
    {
      "cell_type": "code",
      "execution_count": null,
      "metadata": {
        "id": "mGa-USNjUkRe"
      },
      "outputs": [],
      "source": [
        "# Fit a logistic regression model and store the class predictions.\n",
        "from sklearn.linear_model import LogisticRegression\n",
        "\n",
        "logreg = LogisticRegression()\n",
        "\n",
        "logreg.fit(X,y)\n"
      ]
    },
    {
      "cell_type": "markdown",
      "source": [
        "Of course this simply fails, we need to preprocess the text, convert it into a Tensor format and then and only then we can use models!"
      ],
      "metadata": {
        "id": "_VwFV23JVpwK"
      }
    },
    {
      "cell_type": "markdown",
      "source": [
        "### Converting text to vectors"
      ],
      "metadata": {
        "id": "jGrSbpCXVzMD"
      }
    },
    {
      "cell_type": "code",
      "source": [
        "import re\n",
        "nltk.download('stopwords')\n",
        "my_stopwords = nltk.corpus.stopwords.words('english')\n",
        "word_rooter = nltk.stem.snowball.PorterStemmer(ignore_stopwords=False).stem\n",
        "my_punctuation = '!\"$%&\\'()*+,-./:;<=>?[\\\\]^_`{|}~•@'\n",
        "\n",
        "\n",
        "def preprocess_text(text, should_join=True):\n",
        "    text = ' '.join(word.lower() for word in textblob_tokenizer(text))\n",
        "    text = re.sub(r'http\\S+', '', text) # remove http links\n",
        "    text = re.sub(r'bit.ly/\\S+', '', text) # rempve bitly links\n",
        "    text = text.strip('[link]') # remove [links]\n",
        "    text = re.sub('['+my_punctuation + ']+', ' ', text) # remove punctuation\n",
        "    text = re.sub('\\s+', ' ', text) #remove double spacing\n",
        "    text = re.sub(r\"[^a-zA-Z.,&!?]+\", r\" \", text) # only normal characters\n",
        "    text_token_list = [word for word in text.split(' ')\n",
        "                            if word not in my_stopwords] # remove stopwords\n",
        "    text_token_list = [word_rooter(word) if '#' not in word else word\n",
        "                        for word in text_token_list] # apply word rooter\n",
        "    text = ' '.join(text_token_list)\n",
        "    if should_join:\n",
        "      return ' '.join(gensim.utils.simple_preprocess(text))\n",
        "    else:\n",
        "      return gensim.utils.simple_preprocess(text)"
      ],
      "metadata": {
        "id": "qMVNuEtcVoym"
      },
      "execution_count": null,
      "outputs": []
    },
    {
      "cell_type": "code",
      "source": [
        "import swifter\n",
        "X_preprocessed = X.swifter.apply(preprocess_text)"
      ],
      "metadata": {
        "id": "0kgWYlPpVo1t"
      },
      "execution_count": null,
      "outputs": []
    },
    {
      "cell_type": "code",
      "source": [
        "X_preprocessed[0]"
      ],
      "metadata": {
        "id": "CwMeNt_sVo4n"
      },
      "execution_count": null,
      "outputs": []
    },
    {
      "cell_type": "markdown",
      "source": [
        "How do we pass from text to numbers? With tokenizers. We will use Tensorflow ones!"
      ],
      "metadata": {
        "id": "mQH3a91nWm3_"
      }
    },
    {
      "cell_type": "code",
      "source": [
        "# Find a set named vocab that has all unique words\n"
      ],
      "metadata": {
        "id": "2N2Y_sleVo7M"
      },
      "execution_count": null,
      "outputs": []
    },
    {
      "cell_type": "code",
      "source": [
        "print(f'{len(vocab)} unique words')"
      ],
      "metadata": {
        "id": "grvROE8IVpA7"
      },
      "execution_count": null,
      "outputs": []
    },
    {
      "cell_type": "code",
      "source": [
        "def get_maximum_review_length(srs):\n",
        "    pass\n",
        "    return maximum\n",
        "\n",
        "\n",
        "maximum = get_maximum_review_length(X_preprocessed)"
      ],
      "metadata": {
        "id": "9n5_6tl-VpDh"
      },
      "execution_count": null,
      "outputs": []
    },
    {
      "cell_type": "code",
      "source": [
        "print(f'The maximum review was {maximum} words long')"
      ],
      "metadata": {
        "id": "3sRVrTUhVpGH"
      },
      "execution_count": null,
      "outputs": []
    },
    {
      "cell_type": "code",
      "source": [
        "from tensorflow.keras.layers.experimental import preprocessing\n",
        "ids_from_words = preprocessing.StringLookup(vocabulary=list(vocab), mask_token=None)"
      ],
      "metadata": {
        "id": "bjiUQ6h1VpIu"
      },
      "execution_count": null,
      "outputs": []
    },
    {
      "cell_type": "code",
      "source": [
        "words_from_ids = preprocessing.StringLookup(\n",
        "    vocabulary=ids_from_words.get_vocabulary(), invert=True, mask_token=None)"
      ],
      "metadata": {
        "id": "HKuB1UDiVpLl"
      },
      "execution_count": null,
      "outputs": []
    },
    {
      "cell_type": "code",
      "source": [
        "import tensorflow as tf\n",
        "def text_from_ids(ids):\n",
        "  return tf.strings.reduce_join(words_from_ids(ids), axis=-1, separator=' ')"
      ],
      "metadata": {
        "id": "ME_wWwsvVpOc"
      },
      "execution_count": null,
      "outputs": []
    },
    {
      "cell_type": "code",
      "source": [
        "ids = ids_from_words(preprocess_text('Only you can prevent forest fires', should_join=False))\n",
        "ids"
      ],
      "metadata": {
        "id": "Op37f7EjVpQl"
      },
      "execution_count": null,
      "outputs": []
    },
    {
      "cell_type": "code",
      "source": [
        "preprocess_text('Only you can prevent forest fires', should_join=False)"
      ],
      "metadata": {
        "id": "712kFWwb1dqE"
      },
      "execution_count": null,
      "outputs": []
    },
    {
      "cell_type": "code",
      "source": [
        "text_from_ids(ids)\n"
      ],
      "metadata": {
        "id": "VHSIBP6EVpS6"
      },
      "execution_count": null,
      "outputs": []
    },
    {
      "cell_type": "code",
      "source": [
        "def pad_sequence_of_tokens(x, maxlen, unk_token='[UNK]'):\n",
        "  if len(x)<maxlen:\n",
        "    x.extend([unk_token]*(maxlen-len(x)))\n",
        "  return x"
      ],
      "metadata": {
        "id": "LpCZqSlQYb2k"
      },
      "execution_count": null,
      "outputs": []
    },
    {
      "cell_type": "code",
      "source": [],
      "metadata": {
        "id": "FQTtWBrFYpn2"
      },
      "execution_count": null,
      "outputs": []
    },
    {
      "cell_type": "code",
      "source": [
        "from keras_preprocessing.sequence import pad_sequences\n",
        "# Very useful method to keep in mind\n",
        "def get_ids_tensor(srs):\n",
        "\n",
        "  processed = srs.swifter.apply(lambda x: pad_sequence_of_tokens(preprocess_text(x, should_join=False), maxlen=maximum)).to_list()\n",
        "  return tf.squeeze(tf.constant(pad_sequences(ids_from_words(processed), maxlen=maximum, padding='post'), dtype='int32'))\n",
        "\n"
      ],
      "metadata": {
        "id": "ApOkaOuFYb5r"
      },
      "execution_count": null,
      "outputs": []
    },
    {
      "cell_type": "code",
      "source": [
        "all_ids = get_ids_tensor(srs=X_preprocessed.reset_index(drop=True))\n",
        "all_ids"
      ],
      "metadata": {
        "id": "nyZpEFMGYb_p"
      },
      "execution_count": null,
      "outputs": []
    },
    {
      "cell_type": "code",
      "source": [
        "all_ids.shape"
      ],
      "metadata": {
        "id": "-Oprft54YcDG"
      },
      "execution_count": null,
      "outputs": []
    },
    {
      "cell_type": "code",
      "source": [
        "X_train, X_test, y_train, y_test = train_test_split(all_ids.numpy(), y, test_size=0.25 ,random_state=99)"
      ],
      "metadata": {
        "id": "9FwE3RhcYcLs"
      },
      "execution_count": null,
      "outputs": []
    },
    {
      "cell_type": "markdown",
      "source": [
        "### Using Logistic Regression"
      ],
      "metadata": {
        "id": "LRq1lAuCaOSF"
      }
    },
    {
      "cell_type": "code",
      "source": [
        "\n",
        "# Train a Logistic Regression on X_train and give the accuracy\n",
        "logreg = None\n"
      ],
      "metadata": {
        "id": "pg_YCHXmaRQZ"
      },
      "execution_count": null,
      "outputs": []
    },
    {
      "cell_type": "code",
      "source": [
        "from sklearn import metrics\n",
        "y_pred = logreg.predict(X_test)\n",
        "print((metrics.accuracy_score(y_test, y_pred)))"
      ],
      "metadata": {
        "id": "8f-LC-qRaqN6"
      },
      "execution_count": null,
      "outputs": []
    },
    {
      "cell_type": "markdown",
      "metadata": {
        "id": "O5sk57IRUkRh"
      },
      "source": [
        "<a id=\"probability-odds-e-log-and-log-odds\"></a>\n",
        "### Probability, e, Log, and Log Odds\n",
        "---\n",
        "\n",
        "To understand how logistic regression predicts the probability of class membership we need to start by understanding the relationship between probability, odds ratios, and log odds ratios. This is because logistic regression predicts log odds and so reading log odds is extremely useful for interpreting logistic regression.\n",
        "\n",
        "$$probability = \\frac {one\\ outcome} {all\\ outcomes}$$\n",
        "\n",
        "$$odds = \\frac {one\\ outcome} {all\\ other\\ outcomes}$$\n",
        "\n",
        "It is often useful to think of the numeric odds as a ratio. For example, 5/1 = 5 odds is \"5 to 1\" -- five wins for every one loss (e.g. of six total plays). 2/3 odds means \"2 to 3\" -- two wins for every three losses (e.g. of five total plays).\n",
        "\n",
        "Examples:\n",
        "\n",
        "- Dice roll of 1: probability = 1/6, odds = 1/5\n",
        "- Even dice roll: probability = 3/6, odds = 3/3 = 1\n",
        "- Dice roll less than 5: probability = 4/6, odds = 4/2 = 2\n",
        "\n",
        "$$odds = \\frac {probability} {1 - probability}$$\n",
        "\n",
        "$$probability = \\frac {odds} {1 + odds}$$"
      ]
    },
    {
      "cell_type": "markdown",
      "metadata": {
        "id": "tAYEEBUfUkRi"
      },
      "source": [
        "----"
      ]
    },
    {
      "cell_type": "markdown",
      "metadata": {
        "id": "p-IPqBINUkRi"
      },
      "source": [
        "<a id=\"understanding-e-and-the-natural-logarithm\"></a>\n",
        "### Understanding e and the Natural Logarithm\n",
        "\n",
        "What is e? It is the base rate of growth shared by all continually growing processes:\n",
        "\n",
        "e is the irrational base of the natural log `ln`.\n",
        "\n",
        "- 2.718281828459"
      ]
    },
    {
      "cell_type": "code",
      "execution_count": null,
      "metadata": {
        "id": "IHPdharEUkRi"
      },
      "outputs": [],
      "source": [
        "# Exponential function: e^1\n",
        "e = np.exp(1)\n",
        "e"
      ]
    },
    {
      "cell_type": "markdown",
      "metadata": {
        "id": "3bCa8GO9UkRi"
      },
      "source": [
        "What is a (natural) log? It gives you the time needed to reach a certain level of growth:"
      ]
    },
    {
      "cell_type": "code",
      "execution_count": null,
      "metadata": {
        "id": "Dchcn5-dUkRi"
      },
      "outputs": [],
      "source": [
        "# Time needed to grow 1 unit to 2.718 units\n",
        "# ln e = 1\n",
        "np.log(2.718281828459) # very close to previous value"
      ]
    },
    {
      "cell_type": "code",
      "execution_count": null,
      "metadata": {
        "id": "lBZH-R1zUkRi"
      },
      "outputs": [],
      "source": [
        "np.log(e)"
      ]
    },
    {
      "cell_type": "markdown",
      "metadata": {
        "id": "Z_CRRD4WUkRj"
      },
      "source": [
        "It is also the inverse of the exponential function:"
      ]
    },
    {
      "cell_type": "code",
      "execution_count": null,
      "metadata": {
        "id": "D_AMiSqWUkRj"
      },
      "outputs": [],
      "source": [
        "# e^5\n",
        "np.exp(5)"
      ]
    },
    {
      "cell_type": "code",
      "execution_count": null,
      "metadata": {
        "id": "3jBourO9UkRj"
      },
      "outputs": [],
      "source": [
        "# np.exp(5)\n",
        "2.7182818**5"
      ]
    },
    {
      "cell_type": "code",
      "execution_count": null,
      "metadata": {
        "id": "aa7P7USzUkRj"
      },
      "outputs": [],
      "source": [
        "# Taking the log of the exponential returns back to original input\n",
        "np.log(np.exp(5))"
      ]
    },
    {
      "cell_type": "markdown",
      "metadata": {
        "id": "liCrIG1NUkRk"
      },
      "source": [
        "Lets take one of our odds from out table and walk through how it works."
      ]
    },
    {
      "cell_type": "code",
      "execution_count": null,
      "metadata": {
        "id": "Z6f9xknAUkRk"
      },
      "outputs": [],
      "source": [
        "# Odds = 0.25\n",
        "# ln 0.25 = -1.38629436\n",
        "np.log(0.25)"
      ]
    },
    {
      "cell_type": "code",
      "execution_count": null,
      "metadata": {
        "id": "Ev4qLd1wUkRk"
      },
      "outputs": [],
      "source": [
        "print(e**-1.3862943611198906)\n",
        "print(np.exp(-1.3862943611198906))"
      ]
    },
    {
      "cell_type": "markdown",
      "metadata": {
        "id": "HpsQ8yl-UkRk"
      },
      "source": [
        "<img src=\"https://www.dropbox.com/scl/fi/3s5btre5ofls0efzbmj93/log_vs_ols.jpg?rlkey=bc6wf7ejoygrdbk1bqqsn6851&raw=1\"  align=\"Center\"/>"
      ]
    },
    {
      "cell_type": "markdown",
      "metadata": {
        "id": "c-oyHgSKUkRk"
      },
      "source": [
        "<a id=\"what-is-logistic-regression\"></a>\n",
        "## What Is Logistic Regression?\n",
        "---"
      ]
    },
    {
      "cell_type": "markdown",
      "metadata": {
        "id": "du_wEuzxUkRl"
      },
      "source": [
        "Linear regression: Continuous response is modeled as a linear combination of the features.\n",
        "\n",
        "$$y = \\beta_0 + \\beta_1x$$\n",
        "\n",
        "Logistic regression: Log odds of a categorical response being \"true\" (1) is modeled as a linear combination of the features.\n",
        "\n",
        "$$\\log \\left({p\\over 1-p}\\right) = \\beta_0 + \\beta_1x$$\n",
        "\n",
        "This is called the logit function.\n",
        "\n",
        "Probability is sometimes written as pi.\n",
        "\n",
        "$$\\log \\left({\\pi\\over 1-\\pi}\\right) = \\beta_0 + \\beta_1x$$\n",
        "\n",
        "The equation can be rearranged into the logistic function.\n",
        "\n",
        "$$\\hat{p} = \\frac{e^{\\beta_0 + \\beta_1x}} {1 + e^{\\beta_0 + \\beta_1x}}$$"
      ]
    },
    {
      "cell_type": "markdown",
      "metadata": {
        "id": "ixHO2DUXUkRl"
      },
      "source": [
        "In other words:\n",
        "\n",
        "- Logistic regression outputs the probabilities of a specific class.\n",
        "- Those probabilities can be converted into class predictions.\n",
        "\n",
        "The logistic function has some nice properties:\n",
        "\n",
        "- Takes on an \"s\" shape\n",
        "- Output is bounded by 0 and 1\n",
        "\n",
        "We have covered how this works for binary classification problems (two response classes). But what about multi-class classification problems (more than two response classes)?\n",
        "\n",
        "- The most common solution for classification models is \"one-vs-all\" (also known as \"one-vs-rest\"): Decompose the problem into multiple binary classification problems.\n",
        "- Multinomial logistic regression, on the other hand, can solve this as a single problem, but how this works is beyond the scope of this lesson."
      ]
    },
    {
      "cell_type": "markdown",
      "metadata": {
        "id": "OTxKGUwUUkRq"
      },
      "source": [
        "<a id=\"comparing-logistic-regression-to-other-models\"></a>\n",
        "## Comparing Logistic Regression to Other Models\n",
        "---\n",
        "\n",
        "Advantages of logistic regression:\n",
        "\n",
        "- Highly interpretable (if you remember how).\n",
        "- Model training and prediction are fast.\n",
        "- No tuning is required (excluding regularization).\n",
        "- Features don't need scaling.\n",
        "- Can perform well with a small number of observations.\n",
        "- Outputs well-calibrated predicted probabilities.\n",
        "\n",
        "Disadvantages of logistic regression:\n",
        "\n",
        "- Presumes a linear relationship between the features and the log odds of the response.\n",
        "- Performance is (generally) not competitive with the best supervised learning methods.\n",
        "- Can't automatically learn feature interactions."
      ]
    },
    {
      "cell_type": "markdown",
      "metadata": {
        "id": "-_2bFtOmUkRr"
      },
      "source": [
        "----\n",
        "\n",
        "## Is accuracy is good metric?\n",
        "<img src=\"https://www.dropbox.com/scl/fi/ppmtzavh3ot6jinkb35vd/accuracy.png?rlkey=32gfvubdwn1p4i9anwut7ug39&raw=1\"  align=\"center\"/>"
      ]
    },
    {
      "cell_type": "markdown",
      "metadata": {
        "id": "UYM2D6T1UkRr"
      },
      "source": [
        "### The Accuracy Paradox\n",
        "\n",
        "Accuracy is a very intuitive metric — it's a lot like an exam score where you get total correct/total attempted. However, accuracy is often a poor metric in application. There are many reasons for this:\n",
        "- Imbalanced problems problems with 95% positives in the baseline will have 95% accuracy even with no predictive power.\n",
        "  - This is the paradox; pursuing accuracy often means predicting the most common class rather than doing the most useful work.\n",
        "- Applications often have uneven penalties and rewards for true positives and false positives.\n",
        "- Ranking predictions in the correct order be more important than getting them correct.\n",
        "- In many case we need to know the exact probability of a positives and negatives.\n",
        "  - To calculate an expected return.\n",
        "  - To triage observations that are borderline positive."
      ]
    },
    {
      "cell_type": "markdown",
      "metadata": {
        "id": "Umb7u9dtUkRs"
      },
      "source": [
        "<a id=\"advanced-classification-metrics\"></a>\n",
        "## Advanced Classification Metrics\n",
        "\n",
        "---\n",
        "\n",
        "When we evaluate the performance of a logistic regression (or any classifier model), the standard metric to use is accuracy: How many class labels did we guess correctly? However, accuracy is only one of several metrics we could use when evaluating a classification model.\n",
        "\n",
        "$$Accuracy = \\frac{total~predicted~correct}{total~predicted}$$\n",
        "\n",
        "Accuracy alone doesn’t always give us a full picture.\n",
        "\n",
        "If we know a model is 75% accurate, it doesn’t provide any insight into why the 25% was wrong."
      ]
    },
    {
      "cell_type": "markdown",
      "metadata": {
        "id": "9T95QzheUkRs"
      },
      "source": [
        "Consider a binary classification problem where we have 165 observations/rows of people who are either smokers or nonsmokers.\n",
        "\n",
        "<table style=\"border: none\">\n",
        "<tr style=\"border: none\">\n",
        "    <td style=\"border: none; vertical-align: bottom\">n = 165</td>\n",
        "    <td style=\"\"><b>Predicted: No</b></td>\n",
        "    <td style=\"\"><b>Predicted: Yes</b></td>\n",
        "</tr>\n",
        "<tr>\n",
        "    <td><b>Actual: No</b></td>\n",
        "    <td style=\"text-align: center\"></td>\n",
        "    <td style=\"text-align: center\"></td>\n",
        "    <td style=\"text-align: center\"></td>\n",
        "</tr>\n",
        "<tr>\n",
        "    <td><b>Actual: Yes</b></td>\n",
        "    <td style=\"text-align: center\"></td>\n",
        "    <td style=\"text-align: center\"></td>\n",
        "    <td style=\"text-align: center\"></td>\n",
        "</tr>\n",
        "<tr style=\"border: none\">\n",
        "    <td style=\"border: none\"></td>\n",
        "    <td style=\"text-align: center\"></td>\n",
        "    <td style=\"text-align: center\"></td>\n",
        "</tr>\n",
        "\n",
        "</table>"
      ]
    },
    {
      "cell_type": "markdown",
      "metadata": {
        "id": "GISjnWvbUkRs"
      },
      "source": [
        "There are 60 in class 0, nonsmokers, and 105 observations in class 1, smokers\n",
        "<table style=\"border: none\">\n",
        "<tr style=\"border: none\">\n",
        "    <td style=\"border: none; vertical-align: bottom\">n = 165</td>\n",
        "    <td style=\"\"><b>Predicted: No</b></td>\n",
        "    <td style=\"\"><b>Predicted: Yes</b></td>\n",
        "</tr>\n",
        "<tr>\n",
        "    <td><b>Actual: No</b></td>\n",
        "    <td style=\"text-align: center\"></td>\n",
        "    <td style=\"text-align: center\"></td>\n",
        "    <td style=\"text-align: center\">60</td>\n",
        "</tr>\n",
        "<tr>\n",
        "    <td><b>Actual: Yes</b></td>\n",
        "    <td style=\"text-align: center\"></td>\n",
        "    <td style=\"text-align: center\"></td>\n",
        "    <td style=\"text-align: center\">105</td>\n",
        "</tr>\n",
        "<tr style=\"border: none\">\n",
        "    <td style=\"border: none\"></td>\n",
        "    <td style=\"text-align: center\"></td>\n",
        "    <td style=\"text-align: center\"></td>\n",
        "</tr>\n",
        "\n",
        "</table>"
      ]
    },
    {
      "cell_type": "markdown",
      "metadata": {
        "id": "qONng8RpUkRs"
      },
      "source": [
        "We have 55 predictions of class, predicted as nonsmokers, and 110 of class 1, predicted to be smokers.\n",
        "\n",
        "<table style=\"border: none\">\n",
        "<tr style=\"border: none\">\n",
        "    <td style=\"border: none; vertical-align: bottom\">n = 165</td>\n",
        "    <td style=\"\"><b>Predicted: No</b></td>\n",
        "    <td style=\"\"><b>Predicted: Yes</b></td>\n",
        "</tr>\n",
        "<tr>\n",
        "    <td><b>Actual: No</b></td>\n",
        "    <td style=\"text-align: center\"></td>\n",
        "    <td style=\"text-align: center\"></td>\n",
        "    <td style=\"text-align: center\">60</td>\n",
        "</tr>\n",
        "<tr>\n",
        "    <td><b>Actual: Yes</b></td>\n",
        "    <td style=\"text-align: center\"></td>\n",
        "    <td style=\"text-align: center\"></td>\n",
        "    <td style=\"text-align: center\">105</td>\n",
        "</tr>\n",
        "<tr style=\"border: none\">\n",
        "    <td style=\"border: none\"></td>\n",
        "    <td style=\"text-align: center\">55</td>\n",
        "    <td style=\"text-align: center\">110</td>\n",
        "</tr>\n",
        "\n",
        "</table>"
      ]
    },
    {
      "cell_type": "markdown",
      "metadata": {
        "id": "NHPv6L6BUkRs"
      },
      "source": [
        "- **True positives (TP):** These are cases in which we predicted yes (smokers), and they actually are smokers.\n",
        "- **True negatives (TN):** We predicted no, and they are nonsmokers.\n",
        "- **False positives (FP):** We predicted yes, but they were not actually smokers. (This is also known as a \"Type I error.\")\n",
        "- **False negatives (FN):** We predicted no, but they are smokers. (This is also known as a \"Type II error.\")\n",
        "<table style=\"border: none\">\n",
        "<tr style=\"border: none\">\n",
        "    <td style=\"border: none; vertical-align: bottom\">n = 165</td>\n",
        "    <td style=\"\"><b>Predicted: No</b></td>\n",
        "    <td style=\"\"><b>Predicted: Yes</b></td>\n",
        "</tr>\n",
        "<tr>\n",
        "    <td><b>Actual: No</b></td>\n",
        "    <td style=\"text-align: center\">TN = 50</td>\n",
        "    <td style=\"text-align: center\">FP = 10</td>\n",
        "    <td style=\"text-align: center\">60</td>\n",
        "</tr>\n",
        "<tr>\n",
        "    <td><b>Actual: Yes</b></td>\n",
        "    <td style=\"text-align: center\">FN = 5</td>\n",
        "    <td style=\"text-align: center\">TP = 100</td>\n",
        "    <td style=\"text-align: center\">105</td>\n",
        "</tr>\n",
        "<tr style=\"border: none\">\n",
        "    <td style=\"border: none\"></td>\n",
        "    <td style=\"text-align: center\">55</td>\n",
        "    <td style=\"text-align: center\">110</td>\n",
        "</tr>\n",
        "\n",
        "</table>"
      ]
    },
    {
      "cell_type": "markdown",
      "metadata": {
        "id": "vKhOMc-BUkRs"
      },
      "source": [
        "**Categorize these as TP, TN, FP, or FN:**\n",
        "\n",
        "Try not to look at the answers above.\n",
        "    \n",
        "- We predict nonsmoker, but the person is a smoker.\n",
        "- We predict nonsmoker, and the person is a nonsmoker.\n",
        "- We predict smoker and the person is a smoker.\n",
        "- We predict smoker and the person is a nonsmoker.\n",
        "\n",
        "<!--ANSWER\n",
        "- FN\n",
        "- TN\n",
        "- TP\n",
        "- FP\n",
        "-->"
      ]
    },
    {
      "cell_type": "markdown",
      "metadata": {
        "id": "nEjVoGKUUkRt"
      },
      "source": [
        "<a id=\"accuracy-true-positive-rate-and-false-negative-rate\"></a>\n",
        "### Accuracy, True Positive Rate, and False Negative Rate"
      ]
    },
    {
      "cell_type": "markdown",
      "metadata": {
        "id": "QnOAx5OsUkRt"
      },
      "source": [
        "**Accuracy:** Overall, how often is the classifier correct?\n",
        "\n",
        "<span>\n",
        "    (<span style=\"color: green\">TP</span>+<span style=\"color: red\">TN</span>)/<span style=\"color: blue\">total</span> = (<span style=\"color: green\">100</span>+<span style=\"color: red\">50</span>)/<span style=\"color: blue\">165</span> = 0.91\n",
        "</span>\n",
        "\n",
        "<table style=\"border: none\">\n",
        "<tr style=\"border: none\">\n",
        "    <td style=\"border: none; vertical-align: bottom; color: blue\">n = 165</td>\n",
        "    <td style=\"\"><b>Predicted: No</b></td>\n",
        "    <td style=\"\"><b>Predicted: Yes</b></td>\n",
        "</tr>\n",
        "<tr>\n",
        "    <td><b>Actual: No</b></td>\n",
        "    <td style=\"text-align: center; background-color: red\">TN = 50</td>\n",
        "    <td style=\"text-align: center\">FP = 10</td>\n",
        "    <td style=\"text-align: center\">60</td>\n",
        "</tr>\n",
        "<tr>\n",
        "    <td><b>Actual: Yes</b></td>\n",
        "    <td style=\"text-align: center\">FN = 5</td>\n",
        "    <td style=\"text-align: center; background-color: green\">TP = 100</td>\n",
        "    <td style=\"text-align: center\">105</td>\n",
        "</tr>\n",
        "<tr style=\"border: none\">\n",
        "    <td style=\"border: none\"></td>\n",
        "    <td style=\"text-align: center\">55</td>\n",
        "    <td style=\"text-align: center\">110</td>\n",
        "</tr>\n",
        "\n",
        "</table>"
      ]
    },
    {
      "cell_type": "markdown",
      "metadata": {
        "id": "FPgKEx7jUkRt"
      },
      "source": [
        "**True positive rate (TPR)** asks, “Out of all of the target class labels, how many were accurately predicted to belong to that class?”\n",
        "\n",
        "For example, given a medical exam that tests for cancer, how often does it correctly identify patients with cancer?\n",
        "\n",
        "<span>\n",
        "<span style=\"color: green\">TP</span>/<span style=\"color: blue\">actual yes</span> = <span style=\"color: green\">100</span>/<span style=\"color: blue\">105</span> = 0.95\n",
        "</span>\n",
        "\n",
        "<table style=\"border: none\">\n",
        "<tr style=\"border: none\">\n",
        "    <td style=\"border: none; vertical-align: bottom\">n = 165</td>\n",
        "    <td style=\"\"><b>Predicted: No</b></td>\n",
        "    <td style=\"\"><b>Predicted: Yes</b></td>\n",
        "</tr>\n",
        "<tr>\n",
        "    <td><b>Actual: No</b></td>\n",
        "    <td style=\"text-align: center\">TN = 50</td>\n",
        "    <td style=\"text-align: center\">FP = 10</td>\n",
        "    <td style=\"text-align: center\">60</td>\n",
        "</tr>\n",
        "<tr>\n",
        "    <td><b>Actual: Yes</b></td>\n",
        "    <td style=\"text-align: center\">FN = 5</td>\n",
        "    <td style=\"text-align: center;background-color: green\">TP = 100</td>\n",
        "    <td style=\"text-align: center;color: blue\">105</td>\n",
        "</tr>\n",
        "<tr style=\"border: none\">\n",
        "    <td style=\"border: none\"></td>\n",
        "    <td style=\"text-align: center\">55</td>\n",
        "    <td style=\"text-align: center\">110</td>\n",
        "</tr>\n",
        "\n",
        "</table>"
      ]
    },
    {
      "cell_type": "markdown",
      "metadata": {
        "id": "zWGwsnzDUkRt"
      },
      "source": [
        "**False positive rate (FPR)** asks, “Out of all items not belonging to a class label, how many were predicted as belonging to that target class label?”\n",
        "\n",
        "For example, given a medical exam that tests for cancer, how often does it trigger a “false alarm” by incorrectly saying a patient has cancer?\n",
        "\n",
        "<span>\n",
        "<span style=\"color: orange\">FP</span>/<span style=\"color: blue\">actual no</span> = <span style=\"color: orange\">10</span>/<span style=\"color: blue\">60</span> = 0.17\n",
        "</span>\n",
        "\n",
        "<table style=\"border: none\">\n",
        "<tr style=\"border: none\">\n",
        "    <td style=\"border: none; vertical-align: bottom\">n = 165</td>\n",
        "    <td style=\"\"><b>Predicted: No</b></td>\n",
        "    <td style=\"\"><b>Predicted: Yes</b></td>\n",
        "</tr>\n",
        "<tr>\n",
        "    <td><b>Actual: No</b></td>\n",
        "    <td style=\"text-align: center\">TN = 50</td>\n",
        "    <td style=\"text-align: center;background-color: orange\">FP = 10</td>\n",
        "    <td style=\"text-align: center;color:blue\">60</td>\n",
        "</tr>\n",
        "<tr>\n",
        "    <td><b>Actual: Yes</b></td>\n",
        "    <td style=\"text-align: center\">FN = 5</td>\n",
        "    <td style=\"text-align: center\">TP = 100</td>\n",
        "    <td style=\"text-align: center\">105</td>\n",
        "</tr>\n",
        "<tr style=\"border: none\">\n",
        "    <td style=\"border: none\"></td>\n",
        "    <td style=\"text-align: center\">55</td>\n",
        "    <td style=\"text-align: center\">110</td>\n",
        "</tr>\n",
        "\n",
        "</table>"
      ]
    },
    {
      "cell_type": "markdown",
      "metadata": {
        "id": "pZgW8oFcUkRu"
      },
      "source": [
        "**Can you see that we might weigh TPR AND FPR differently depending on the situation?**\n",
        "\n",
        "- Give an example when we care about TPR, but not FPR.\n",
        "- Give an example when we care about FPR, but not TPR.\n",
        "\n",
        "<!--\n",
        "ANSWER:\n",
        "- During an initial medical diagnosis, we want to be sensitive. We want initial screens to come up with a lot of true positives, even if we get a lot of false positives.\n",
        "- If we are doing spam detection, we want to be precise. Anything that we remove from an inbox must be spam, which may mean accepting fewer true positives.\n",
        "-->"
      ]
    },
    {
      "cell_type": "markdown",
      "metadata": {
        "id": "Y7vTQeGgUkRu"
      },
      "source": [
        "## The Confusion Matrix\n",
        "<img src=\"https://www.dropbox.com/scl/fi/eaig0g63lct0r7dzt6qit/confusion.png?rlkey=edw4kjneymt6q0hl6r48512py&raw=1\" align=\"center\"/>"
      ]
    },
    {
      "cell_type": "markdown",
      "metadata": {
        "id": "c8TwtY14UkRu"
      },
      "source": [
        "# What is precison and recall?\n",
        "<img src=\"https://www.dropbox.com/scl/fi/yf2rcxzstnz6p4ef11xj0/recall.png?rlkey=mmbfwbgvzadrwpgqwi44gxhnk&raw=1\" align=\"center\"/>"
      ]
    },
    {
      "cell_type": "code",
      "source": [
        "from sklearn.metrics import classification_report\n",
        "\n",
        "print(classification_report(y_test, y_pred))"
      ],
      "metadata": {
        "id": "580e6cr3cM1x"
      },
      "execution_count": null,
      "outputs": []
    },
    {
      "cell_type": "markdown",
      "metadata": {
        "id": "D5IdYxD6UkRv"
      },
      "source": [
        "---"
      ]
    },
    {
      "cell_type": "markdown",
      "metadata": {
        "id": "GuT26991UkRw"
      },
      "source": [
        "## Lesson Review\n",
        "- **Logistic regression**\n",
        "  - What kind of machine learning problems does logistic regression address?\n",
        "  - What do the coefficients in a logistic regression represent? How does the interpretation differ from ordinary least squares? How is it similar?\n",
        "  \n",
        "- **The confusion matrix**\n",
        "  - How do true positive rate and false positive rate help explain accuracy?\n",
        "  - Why might one classification metric be more important to tune than another? Give an example of a business problem or project where this would be the case."
      ]
    },
    {
      "cell_type": "markdown",
      "source": [
        "## Using Boosting Algorithms and other things"
      ],
      "metadata": {
        "id": "sm--rNNocZm8"
      }
    },
    {
      "cell_type": "code",
      "source": [
        "from sklearn.ensemble import GradientBoostingClassifier\n",
        "\n",
        "clf = GradientBoostingClassifier(n_estimators=50, learning_rate=0.5)\n",
        "clf.fit(X_train, y_train)\n",
        "y_pred = clf.predict(X_test)\n",
        "print(classification_report(y_test, y_pred))"
      ],
      "metadata": {
        "id": "Mj26V5b0cmev"
      },
      "execution_count": null,
      "outputs": []
    },
    {
      "cell_type": "code",
      "source": [
        "from sklearn.ensemble import AdaBoostClassifier\n",
        "\n",
        "clf = AdaBoostClassifier(n_estimators=50, learning_rate=0.5)\n",
        "clf.fit(X_train, y_train)\n",
        "y_pred = clf.predict(X_test)\n",
        "print(classification_report(y_test, y_pred))"
      ],
      "metadata": {
        "id": "jX7NK1QOc7o-"
      },
      "execution_count": null,
      "outputs": []
    },
    {
      "cell_type": "code",
      "source": [],
      "metadata": {
        "id": "Q2Ufd7zrAfxk"
      },
      "execution_count": null,
      "outputs": []
    },
    {
      "cell_type": "code",
      "source": [
        "from sklearn.ensemble import RandomForestClassifier\n",
        "\n",
        "clf = RandomForestClassifier(n_estimators=50)\n",
        "clf.fit(X_train, y_train)\n",
        "y_pred = clf.predict(X_test)\n",
        "print(classification_report(y_test, y_pred))"
      ],
      "metadata": {
        "id": "SgI4faRIdKD9"
      },
      "execution_count": null,
      "outputs": []
    },
    {
      "cell_type": "markdown",
      "source": [
        "## Multiclass Classification"
      ],
      "metadata": {
        "id": "KkCMvMmPhoPT"
      }
    },
    {
      "cell_type": "markdown",
      "source": [
        "Just check in the estimators, most support multiclass classification."
      ],
      "metadata": {
        "id": "N79KIaamiOKf"
      }
    },
    {
      "cell_type": "code",
      "source": [
        "from sklearn.datasets import load_iris\n",
        "from sklearn.linear_model import LogisticRegression\n",
        "X, y = load_iris(return_X_y=True)\n",
        "clf = LogisticRegression(random_state=0, multi_class='multinomial').fit(X, y)\n",
        "clf.predict(X[:2, :])\n",
        "clf.predict_proba(X[:2, :])\n",
        "clf.score(X, y)"
      ],
      "metadata": {
        "id": "bphOQQ2IhrHU"
      },
      "execution_count": null,
      "outputs": []
    },
    {
      "cell_type": "markdown",
      "source": [
        "### **Homework**: Try to perform the stars classification with Logistic Regression but without filtering only for 5 and 1 stars."
      ],
      "metadata": {
        "id": "Ad5QRe4TiUPu"
      }
    },
    {
      "cell_type": "markdown",
      "source": [
        "## Clustering"
      ],
      "metadata": {
        "id": "MbwlFBil8ooj"
      }
    },
    {
      "cell_type": "markdown",
      "source": [
        "In this lab, we will use the [Iris](https://scikit-learn.org/stable/datasets/index.html#iris-dataset) open dataset and scikit-learn clustering algorithms to effectively return the species of all those flowers!\n",
        "\n",
        "The objective of this lab is to understand how clustering can help us identify \"potential\" labels of our dataset, which we can later on feed to supervised algorithms."
      ],
      "metadata": {
        "id": "sEs6KNnC8fOZ"
      }
    },
    {
      "cell_type": "markdown",
      "source": [
        "As we know, only 0.1% of real-world data has a label of each item (imagine an image and, next to it, a list of all the animals represented). This is what we call *annotated data*. However, annotation is often:\n",
        "\n",
        "- Expensive\n",
        "- Difficult to standardize\n",
        "- Difficult to scale\n",
        "- Sensitive to design changes\n",
        "- Hard to do right\n",
        "\n"
      ],
      "metadata": {
        "id": "0sftvEbc8yVy"
      }
    },
    {
      "cell_type": "markdown",
      "source": [
        "<img src=\"https://www.dropbox.com/scl/fi/g5lkwhrbsod6xps2b9fus/unlabeled-data-car.jpg?rlkey=rqe4ge1ctchi5z28epalgusdo&raw=1\"  align=\"center\"/>\n",
        "\n",
        "\n"
      ],
      "metadata": {
        "id": "pIVzG82494HY"
      }
    },
    {
      "cell_type": "markdown",
      "source": [
        "Examples of non-annotated data include:\n",
        "\n",
        "- Chats\n",
        "- Audio\n",
        "- Medical histories\n",
        "\n",
        "So what can we do in that case? One of the common algorithms to attack this problem is _clustering_.\n",
        "\n",
        "Clustering is a set of algorithms that find intrinsic associations in our data to end up with something like this:\n",
        "\n",
        "![Clustering example](https://raw.githubusercontent.com/axel-sirota/getting-started-unsupervised-learning/master/clustering-example.png)\n",
        "\n",
        "There are two fundamental techniques for this: *hierarchical* and *non-hierarchical* clustering."
      ],
      "metadata": {
        "id": "RpqssLLd-C0g"
      }
    },
    {
      "cell_type": "markdown",
      "source": [
        "### Hierarchical Clustering"
      ],
      "metadata": {
        "id": "pDnjgea0-JIT"
      }
    },
    {
      "cell_type": "markdown",
      "source": [
        "In Hierarchical clustering, which is also called agglomerative, we add elements in a nested way. For example:\n",
        "\n",
        "![Hierarchical clustering example](https://raw.githubusercontent.com/axel-sirota/getting-started-unsupervised-learning/master/hierarchiecal-clustering.png)\n",
        "\n",
        "To do this, we do the following:\n",
        "\n",
        "1. Start first cluster with the two elements closest to each other\n",
        "2. Calculate the distance between this cluster and the other elements\n",
        "3. Create a new cluster or append to existing one, based on which have the least distance (we append, by treating the new cluster as another element, if it is closest to the element)\n",
        "4. Continue\n",
        "\n",
        "Easy right?\n",
        "\n",
        "Let's do it in Python! First we will import all the necessary packages:"
      ],
      "metadata": {
        "id": "BUqBVPh5-OWG"
      }
    },
    {
      "cell_type": "code",
      "source": [
        "import numpy as np\n",
        "from scipy.cluster.hierarchy import dendrogram\n",
        "from sklearn.datasets import load_iris\n",
        "from sklearn.cluster import AgglomerativeClustering\n",
        "import matplotlib.pyplot as plt\n",
        "np.random.seed(42)"
      ],
      "metadata": {
        "id": "2iHw61vt8ejx"
      },
      "execution_count": null,
      "outputs": []
    },
    {
      "cell_type": "markdown",
      "source": [
        "We will now load the dataset, which is trivial in scikit-learn given its dataset loading abilities, and fit the hierarchical clustering model:"
      ],
      "metadata": {
        "id": "YqZIYYpJ-VV6"
      }
    },
    {
      "cell_type": "code",
      "source": [
        "iris = load_iris()\n",
        "X = iris.data\n",
        "model = AgglomerativeClustering(n_clusters=3, compute_distances=True)\n",
        "model.fit_predict(X)"
      ],
      "metadata": {
        "colab": {
          "base_uri": "https://localhost:8080/"
        },
        "id": "EVBhqTMi-W78",
        "outputId": "98c8281a-5271-4015-b1f5-8531bf100b80"
      },
      "execution_count": null,
      "outputs": [
        {
          "output_type": "execute_result",
          "data": {
            "text/plain": [
              "array([1, 1, 1, 1, 1, 1, 1, 1, 1, 1, 1, 1, 1, 1, 1, 1, 1, 1, 1, 1, 1, 1,\n",
              "       1, 1, 1, 1, 1, 1, 1, 1, 1, 1, 1, 1, 1, 1, 1, 1, 1, 1, 1, 1, 1, 1,\n",
              "       1, 1, 1, 1, 1, 1, 0, 0, 0, 0, 0, 0, 0, 0, 0, 0, 0, 0, 0, 0, 0, 0,\n",
              "       0, 0, 0, 0, 0, 0, 0, 0, 0, 0, 0, 2, 0, 0, 0, 0, 0, 0, 0, 0, 0, 0,\n",
              "       0, 0, 0, 0, 0, 0, 0, 0, 0, 0, 0, 0, 2, 0, 2, 2, 2, 2, 0, 2, 2, 2,\n",
              "       2, 2, 2, 0, 0, 2, 2, 2, 2, 0, 2, 0, 2, 0, 2, 2, 0, 0, 2, 2, 2, 2,\n",
              "       2, 0, 0, 2, 2, 2, 0, 2, 2, 2, 0, 2, 2, 2, 0, 2, 2, 0])"
            ]
          },
          "metadata": {},
          "execution_count": 64
        }
      ]
    },
    {
      "cell_type": "markdown",
      "source": [
        "It is *THAT* easy! Let's see how well we performed:\n"
      ],
      "metadata": {
        "id": "MLLivXZY_S1E"
      }
    },
    {
      "cell_type": "code",
      "source": [
        "print(f'As expected, the number of clusters predicted by the models are {model.n_clusters_}')\n",
        "\n",
        "predicted_labels = model.labels_\n",
        "corrected_predicted_labels = np.where((predicted_labels==0)|(predicted_labels==1), predicted_labels^1, predicted_labels) # Hierarchiecal starts labels with 1 and the dataset with 0\n",
        "real_labels = iris.target\n",
        "equal = 0\n",
        "for predicted_label, real_label in zip(corrected_predicted_labels, real_labels):\n",
        "    if  predicted_label == real_label:\n",
        "        equal += 1\n",
        "\n",
        "\n",
        "print(f'Accuracy of hierarchiecal clustering with clusters specified is {100*equal / len(corrected_predicted_labels)} %')\n"
      ],
      "metadata": {
        "colab": {
          "base_uri": "https://localhost:8080/"
        },
        "id": "eMKeWgZj_REk",
        "outputId": "3c249f1f-13b6-46d0-d058-38914c81b05a"
      },
      "execution_count": null,
      "outputs": [
        {
          "output_type": "stream",
          "name": "stdout",
          "text": [
            "As expected, the number of clusters predicted by the models are 3\n",
            "Accuracy of hierarchiecal clustering with clusters specified is 89.33333333333333 %\n"
          ]
        }
      ]
    },
    {
      "cell_type": "markdown",
      "source": [
        "Not so bad for a split second operation, right?! What this will do is:\n",
        "\n",
        "1. Get a random flower\n",
        "2. Calculate the distance of it against all other elements\n",
        "3. Create a \"cluster\" of size 2 with the shortest sample\n",
        "4. Iterate until all elements are in a cluster\n",
        "\n",
        "What if we wanted to plot this? This would be as easy as:\n"
      ],
      "metadata": {
        "id": "TFgHYogX_a8c"
      }
    },
    {
      "cell_type": "code",
      "source": [
        "def plot_dendrogram(model, **kwargs):\n",
        "    # Create linkage matrix and then plot the dendrogram\n",
        "    # create the counts of samples under each node\n",
        "    counts = np.zeros(model.children_.shape[0])\n",
        "    n_samples = len(model.labels_)\n",
        "    for i, merge in enumerate(model.children_):\n",
        "        current_count = 0\n",
        "        for child_idx in merge:\n",
        "            if child_idx < n_samples:\n",
        "                current_count += 1  # leaf node\n",
        "            else:\n",
        "                current_count += counts[child_idx - n_samples]\n",
        "        counts[i] = current_count\n",
        "    linkage_matrix = np.column_stack([model.children_, model.distances_, counts]).astype(float)\n",
        "    # Plot the corresponding dendrogram\n",
        "    dendrogram(linkage_matrix, **kwargs)\n",
        "\n",
        "plt.title('Hierarchical Clustering Dendrogram')\n",
        "# plot the top three levels of the dendrogram\n",
        "plot_dendrogram(model, truncate_mode='level', p=3)\n",
        "plt.xlabel(\"Number of points in node (or index of point if no parenthesis).\")\n",
        "plt.show()"
      ],
      "metadata": {
        "colab": {
          "base_uri": "https://localhost:8080/",
          "height": 54
        },
        "id": "BazaMRra_WvK",
        "outputId": "16b7dc4a-55f8-425f-be64-a13863cdcbbb"
      },
      "execution_count": null,
      "outputs": [
        {
          "output_type": "display_data",
          "data": {
            "text/plain": [
              "<Figure size 640x480 with 1 Axes>"
            ],
            "image/png": "[encoded data removed]"
          },
          "metadata": {}
        }
      ]
    },
    {
      "cell_type": "markdown",
      "source": [
        "Of course you may point out that it's easy when you know *ahead of time* that there are three clusters! And you would be right, but this example is just for you to get your feet wet and start learning.\n",
        "\n",
        "There are multiple ways of optimizing the number of clusters hyperparameter, but that is out of scope for this introduction. If you're curious, I recommend checking out [_Hands-On Unsupervised Learning Using Python_](https://learning.oreilly.com/library/view/hands-on-unsupervised-learning/9781492035633/) by Ankur A. Patel (O'Reilly).\n",
        "\n",
        "For know, lets move on to non-hierarchical clustering and its most prominent example: _k_-means!"
      ],
      "metadata": {
        "id": "oIMMaJ0eAQfW"
      }
    },
    {
      "cell_type": "markdown",
      "source": [
        "### Non-Hierarchiechal Clustering"
      ],
      "metadata": {
        "id": "ZfMWB6iAAUiY"
      }
    },
    {
      "cell_type": "markdown",
      "source": [
        "_k_-means is the most famous clustering algorithm of all, and for a good reason:\n",
        "\n",
        "- It is stable\n",
        "- It scales\n",
        "- It is reliable\n",
        "- It is well studied\n",
        "\n",
        "In a nutshell, the objective of _k_-means is to find inherent clusters using the following recipe:\n",
        "\n",
        "1. Start with _k_ randomly chosen landmarks for starting our clusters.\n",
        "1. Assign every element to a cluster based on minimum distance (which can be anything we chose!).\n",
        "1. Now that there are _k_ clusters, optimize them.\n",
        "1. Calculate the centers of each cluster. This is done by averaging them out. These are the new landmarks for the next iteration.\n",
        "1. Continue until there is no reassignment in step 2.\n",
        "\n",
        "This process is represented by the following:\n",
        "\n",
        "![_k_-means Example](https://raw.githubusercontent.com/axel-sirota/getting-started-unsupervised-learning/master/kmeans.png )\n",
        "\n",
        "First to perform _k_-means, we need to perform our imports:"
      ],
      "metadata": {
        "id": "NiGuQiXBAb9U"
      }
    },
    {
      "cell_type": "code",
      "source": [
        "import numpy as np\n",
        "from sklearn.datasets import load_iris\n",
        "from sklearn.cluster import KMeans\n",
        "from sklearn import datasets\n",
        "np.random.seed(42)\n",
        "del predicted_labels\n",
        "del model\n",
        "del predicted_label\n",
        "del corrected_predicted_labels"
      ],
      "metadata": {
        "id": "jetXSoHB_hys"
      },
      "execution_count": null,
      "outputs": []
    },
    {
      "cell_type": "markdown",
      "source": [
        "We will now load the dataset, which is trivial in scikit-learn with its dataset loading abilities, and then fit the _k_-means model:"
      ],
      "metadata": {
        "id": "dtZe2UvTAjDu"
      }
    },
    {
      "cell_type": "code",
      "source": [
        "iris = load_iris()\n",
        "X = iris.data\n",
        "model = KMeans(n_clusters=3, init='random', max_iter=2000, tol=10**-7, random_state=42, n_init='auto')\n",
        "model.fit_predict(X)"
      ],
      "metadata": {
        "colab": {
          "base_uri": "https://localhost:8080/"
        },
        "id": "rqivnRzXAg2D",
        "outputId": "33e70261-a5ca-4309-f53e-c90f501e87c3"
      },
      "execution_count": null,
      "outputs": [
        {
          "output_type": "execute_result",
          "data": {
            "text/plain": [
              "array([1, 1, 1, 1, 1, 1, 1, 1, 1, 1, 1, 1, 1, 1, 1, 1, 1, 1, 1, 1, 1, 1,\n",
              "       1, 1, 1, 1, 1, 1, 1, 1, 1, 1, 1, 1, 1, 1, 1, 1, 1, 1, 1, 1, 1, 1,\n",
              "       1, 1, 1, 1, 1, 1, 0, 0, 2, 0, 0, 0, 0, 0, 0, 0, 0, 0, 0, 0, 0, 0,\n",
              "       0, 0, 0, 0, 0, 0, 0, 0, 0, 0, 0, 2, 0, 0, 0, 0, 0, 0, 0, 0, 0, 0,\n",
              "       0, 0, 0, 0, 0, 0, 0, 0, 0, 0, 0, 0, 2, 0, 2, 2, 2, 2, 0, 2, 2, 2,\n",
              "       2, 2, 2, 0, 0, 2, 2, 2, 2, 0, 2, 0, 2, 0, 2, 2, 0, 0, 2, 2, 2, 2,\n",
              "       2, 0, 2, 2, 2, 2, 0, 2, 2, 2, 0, 2, 2, 2, 0, 2, 2, 0], dtype=int32)"
            ]
          },
          "metadata": {},
          "execution_count": 68
        }
      ]
    },
    {
      "cell_type": "markdown",
      "source": [
        "Let's compare it for a second with the clustering method we saw before by checking it's accuracy:"
      ],
      "metadata": {
        "id": "DFIss4mSAqr2"
      }
    },
    {
      "cell_type": "code",
      "source": [
        "predicted_labels = model.labels_\n",
        "where_0 = np.where(predicted_labels == 0)\n",
        "where_1 = np.where(predicted_labels == 1)\n",
        "\n",
        "predicted_labels[where_0] = 1\n",
        "predicted_labels[where_1] = 0\n",
        "real_labels = iris.target\n",
        "equal = 0\n",
        "for predicted_label, real_label in zip(predicted_labels, real_labels):\n",
        "    if  predicted_label == real_label:\n",
        "        equal += 1\n",
        "\n",
        "\n",
        "print(f'Accuracy of _k_-means clustering with clusters specified is {100*equal / len(predicted_labels)} %')"
      ],
      "metadata": {
        "colab": {
          "base_uri": "https://localhost:8080/"
        },
        "id": "CgPr-tCKAkhA",
        "outputId": "783c0fef-8f94-438b-b102-9c3b0e7e42f1"
      },
      "execution_count": null,
      "outputs": [
        {
          "output_type": "stream",
          "name": "stdout",
          "text": [
            "Accuracy of _k_-means clustering with clusters specified is 89.33333333333333 %\n"
          ]
        }
      ]
    },
    {
      "cell_type": "markdown",
      "source": [
        "#### Figuring out the number of clusters\n",
        "\n",
        "We can see that it doesn't seem like we have much difference! However, there _is_ a difference, because in _k_-means we have an analytical way of analyzing how to optimize it! Basically, we can calculate for each parameter the inertia of the resulting cluster, so we can optimize over it. This way, we can get the optimum number of clusters *without* knowing them ahead of time!\n",
        "\n",
        "Let's try to do the same as before, but with an increasing number of clusters, and then compare the inertias:"
      ],
      "metadata": {
        "id": "ILhF7rOjA2vl"
      }
    },
    {
      "cell_type": "code",
      "source": [
        "n_clusters = [1,2,3,4,5,6,7,8]\n",
        "inertias = []\n",
        "for cluster in n_clusters:\n",
        "    del model  # So we remove previous references\n",
        "    model = KMeans(n_clusters=cluster, random_state=42, n_init=10)\n",
        "    model.fit(X)\n",
        "    inertias.append(model.inertia_)\n",
        "\n",
        "print(f'The inertias were: {inertias}')"
      ],
      "metadata": {
        "colab": {
          "base_uri": "https://localhost:8080/"
        },
        "id": "a8wIn92TAuqs",
        "outputId": "0571cca0-60f0-4a81-b8d9-addc9172aa35"
      },
      "execution_count": null,
      "outputs": [
        {
          "output_type": "stream",
          "name": "stdout",
          "text": [
            "The inertias were: [681.3706, 152.3479517603579, 78.851441426146, 57.22847321428572, 46.446182051282065, 39.03998724608726, 34.46949589883801, 30.1865551948052]\n"
          ]
        }
      ]
    },
    {
      "cell_type": "markdown",
      "source": [
        "If you check closely, the inertias decrease over time. There is a point, however, where the decrease isn't as steep. This means that we aren't gaining too much information by adding more clusters.\n",
        "\n",
        "The *Elbow method* dictates that the point where the decrease in inertia starts to be \"low\" is the optimal number of clusters. So for our example:"
      ],
      "metadata": {
        "id": "S-MK5wbQBcPS"
      }
    },
    {
      "cell_type": "code",
      "source": [
        "print(f'The differences in each step are: {[(i-j) for i, j in zip(inertias[:-1], inertias[1:])]}')"
      ],
      "metadata": {
        "colab": {
          "base_uri": "https://localhost:8080/"
        },
        "id": "BgTkx8dpBc2v",
        "outputId": "73ed9885-d916-48cd-d711-6fbf21fecde0"
      },
      "execution_count": null,
      "outputs": [
        {
          "output_type": "stream",
          "name": "stdout",
          "text": [
            "The differences in each step are: [529.0226482396421, 73.49651033421189, 21.622968211860275, 10.782291163003656, 7.406194805194808, 4.570491347249245, 4.282940704032811]\n"
          ]
        }
      ]
    },
    {
      "cell_type": "markdown",
      "source": [
        "We can see that going from one cluster to two reduced the inertia by 77%, then we reduced it by another 48% but later on it only reduced by a bit (20 or less); so, we could say the optimal number of clusters is three. What we do then is a hierarchical clustering and confirm this in a dendrogram, as we did before.\n",
        "\n",
        "However, _k_-means is not always the best algorithm since it expects clusters to be globular and of equal shape. Let's quickly analyze this in the next step!"
      ],
      "metadata": {
        "id": "IYqn0GB8BkY3"
      }
    },
    {
      "cell_type": "markdown",
      "source": [
        "### DBScan"
      ],
      "metadata": {
        "id": "TIyy7GDEBpdc"
      }
    },
    {
      "cell_type": "markdown",
      "source": [
        "If you find that _k_-means is not working for you, it might be because your data is not equivariant or globular; if so, there are other alternatives! One famous algorithm to revisit is *DB Scan*.\n",
        "\n",
        "The idea behind DB Scan is to not form clusters by assigning all members and later on reduce a metric (inertia in _k_-means), but to check a cluster by the *density of its members*, characterized by the minimum number of elements needed to perform a cluster and the radius of the search space.\n",
        "\n",
        "This way, DB Scan \"scans\" the whole map looking for neighbors and assigns in case there are sufficient, and sufficiently close! Check out this [video][dbscan] for an example.\n",
        "\n",
        "[dbscan]:  http://primo.ai/index.php?title=Density-Based_Spatial_Clustering_of_Applications_with_Noise_(DBSCAN) \"DB Scan Example\"\n",
        "\n",
        "So to get a handle on this in code, first we do our imports:"
      ],
      "metadata": {
        "id": "r4UxF_leBr8G"
      }
    },
    {
      "cell_type": "code",
      "source": [
        "import numpy as np\n",
        "\n",
        "from sklearn.cluster import DBSCAN\n",
        "from sklearn import metrics\n",
        "from sklearn.datasets import make_blobs\n",
        "from sklearn.preprocessing import StandardScaler"
      ],
      "metadata": {
        "id": "h8OyN4bHBfhQ"
      },
      "execution_count": null,
      "outputs": []
    },
    {
      "cell_type": "markdown",
      "source": [
        "Later on we might create artificial data, but for this we use the super useful `make_blobs` method from scikit-learn:"
      ],
      "metadata": {
        "id": "xl2p7fcIBy-O"
      }
    },
    {
      "cell_type": "code",
      "source": [
        "centers = [[1, 1], [-1, -1], [1, -1]]\n",
        "X, labels_true = make_blobs(n_samples=750, centers=centers, cluster_std=0.4,\n",
        "                            random_state=0)\n",
        "\n",
        "X = StandardScaler().fit_transform(X)"
      ],
      "metadata": {
        "id": "WJEGOzd7BxX5"
      },
      "execution_count": null,
      "outputs": []
    },
    {
      "cell_type": "markdown",
      "source": [
        "Next we'll perform the scan, setting the ratio as 0.3 and the minimum elements to create a cluster as 10:"
      ],
      "metadata": {
        "id": "80_cC2A1B2DP"
      }
    },
    {
      "cell_type": "code",
      "source": [
        "db = DBSCAN(eps=0.3, min_samples=10).fit(X)\n",
        "labels = db.labels_\n",
        "# Number of clusters in labels, ignoring noise if present.\n",
        "n_clusters_ = len(set(labels)) - (1 if -1 in labels else 0)\n",
        "n_noise_ = list(labels).count(-1)"
      ],
      "metadata": {
        "id": "0NR8GqOXB0ft"
      },
      "execution_count": null,
      "outputs": []
    },
    {
      "cell_type": "markdown",
      "source": [
        "Finally, let's see how it goes! Run the following:\n"
      ],
      "metadata": {
        "id": "5wVCZsD8B7hJ"
      }
    },
    {
      "cell_type": "code",
      "source": [
        "print('Estimated number of clusters: %d' % n_clusters_)\n",
        "print('Estimated number of noise points: %d' % n_noise_)\n",
        "print(\"Homogeneity: %0.3f\" % metrics.homogeneity_score(labels_true, labels))\n",
        "print(\"Completeness: %0.3f\" % metrics.completeness_score(labels_true, labels))\n",
        "print(\"V-measure: %0.3f\" % metrics.v_measure_score(labels_true, labels))\n",
        "print(\"Adjusted Rand Index: %0.3f\"\n",
        "      % metrics.adjusted_rand_score(labels_true, labels))\n",
        "print(\"Adjusted Mutual Information: %0.3f\"\n",
        "      % metrics.adjusted_mutual_info_score(labels_true, labels))\n",
        "print(\"Silhouette Coefficient: %0.3f\"\n",
        "      % metrics.silhouette_score(X, labels))\n"
      ],
      "metadata": {
        "colab": {
          "base_uri": "https://localhost:8080/"
        },
        "id": "0BcwUqytB5-O",
        "outputId": "f7450761-4789-418c-fb96-3d5d5a92752a"
      },
      "execution_count": null,
      "outputs": [
        {
          "output_type": "stream",
          "name": "stdout",
          "text": [
            "Estimated number of clusters: 3\n",
            "Estimated number of noise points: 18\n",
            "Homogeneity: 0.953\n",
            "Completeness: 0.883\n",
            "V-measure: 0.917\n",
            "Adjusted Rand Index: 0.952\n",
            "Adjusted Mutual Information: 0.916\n",
            "Silhouette Coefficient: 0.626\n"
          ]
        }
      ]
    },
    {
      "cell_type": "markdown",
      "source": [
        "Not too shabby! DB Scan automatically discovered the three clusters and also removed the 18 outliers, setting them as not being in any cluster!\n",
        "\n",
        "DB Scan is a bit slower than _k_-means and does not parallelize as the latter does, but it is extremely good at finding the \"correct clusters.\" Using the three tools we have seen, we have a perfect toolkit to find the correct number of tentative labels for our data!\n"
      ],
      "metadata": {
        "id": "bHN84zZLCB5M"
      }
    },
    {
      "cell_type": "markdown",
      "source": [
        "To recap, we did the following:\n",
        "\n",
        "- Learned about unsupervised learning and the types of clustering\n",
        "- Performed a hierarchical clustering, finding out how to visually represent our clusters\n",
        "- Migrated into non hierarchical clustering checking out the most famous algorithm of all, _k_-means, and look at its assumptions and how to find out the number of clusters to set\n",
        "- Finally, we briefly explored DB Scan to analyze density based clustering and how it helps us find, intrinsically, any outliers and the correct number of clusters\n"
      ],
      "metadata": {
        "id": "Q2pnyqh2CI3P"
      }
    },
    {
      "cell_type": "code",
      "source": [],
      "metadata": {
        "id": "gHsXCm1qB-Z4"
      },
      "execution_count": null,
      "outputs": []
    },
    {
      "cell_type": "markdown",
      "metadata": {
        "id": "ZF9_ZRWkUkRw"
      },
      "source": [
        "# Now you do it\n",
        "<img src=\"https://www.dropbox.com/scl/fi/qt7g1wgsnpne43cfwumu0/hands_on.jpg?rlkey=q1zyeuoiuvofnzux4iylfo6ax&raw=1\" width=\"100\" height=\"100\" align=\"right\"/>"
      ]
    },
    {
      "cell_type": "code",
      "source": [
        "\n"
      ],
      "metadata": {
        "id": "9MURnOjUgLeF"
      },
      "execution_count": null,
      "outputs": []
    },
    {
      "cell_type": "markdown",
      "metadata": {
        "id": "su8q2OiMUkRw"
      },
      "source": [
        "he dataset is one on \"churn\" in cell phone plans. It has information on the usage of the phones by different account holders and whether or not they churned or not.\n",
        "\n",
        "Our goal is to predict whether a user will churn or not based on the other features.\n",
        "\n",
        "<img src=\"https://www.dropbox.com/scl/fi/r0di6ju7bm2pskg5nqd0n/churn.png?rlkey=xclo5ytlre63kb6o31sjub956&raw=1\"  align=\"center\"/>\n",
        "\n",
        "### Use these parameters for testing\n",
        "\n",
        "> random_state = 99\n",
        "\n",
        "> test_size = 0.2"
      ]
    },
    {
      "cell_type": "code",
      "source": [],
      "metadata": {
        "id": "vg1_xgrWhMvC"
      },
      "execution_count": null,
      "outputs": []
    },
    {
      "cell_type": "code",
      "source": [
        "%%writefile get_capstone_data.sh\n",
        "if [ ! -f churn_missing.csv ]; then\n",
        "  wget -O churn_missing.csv https://www.dropbox.com/scl/fi/r8ctv87bqnb42qjmoyqzy/churn_missing.csv?rlkey=30egvb2y4rpsicz3n0t57w6bd&dl=0\n",
        "fi"
      ],
      "metadata": {
        "id": "leIy-YWOhM7n"
      },
      "execution_count": null,
      "outputs": []
    },
    {
      "cell_type": "code",
      "source": [
        "!bash get_capstone_data.sh"
      ],
      "metadata": {
        "id": "oG3LqY6_hM7p"
      },
      "execution_count": null,
      "outputs": []
    },
    {
      "cell_type": "code",
      "execution_count": null,
      "metadata": {
        "id": "_rPLlRAkUkRw"
      },
      "outputs": [],
      "source": [
        "churn = pd.read_csv('./churn_missing.csv')\n",
        "churn.head()"
      ]
    },
    {
      "cell_type": "code",
      "execution_count": null,
      "metadata": {
        "id": "dKVoCkCPUkRx"
      },
      "outputs": [],
      "source": []
    }
  ],
  "metadata": {
    "kernelspec": {
      "display_name": "Python 3",
      "name": "python3"
    },
    "language_info": {
      "codemirror_mode": {
        "name": "ipython",
        "version": 3
      },
      "file_extension": ".py",
      "mimetype": "text/x-python",
      "name": "python",
      "nbconvert_exporter": "python",
      "pygments_lexer": "ipython3",
      "version": "3.9.1"
    },
    "colab": {
      "provenance": [],
      "collapsed_sections": [
        "VK1ibhKLUkRW",
        "KSob7NpKVP3i",
        "AUyePxrQUkRe",
        "c-oyHgSKUkRk",
        "-_2bFtOmUkRr",
        "Umb7u9dtUkRs",
        "sm--rNNocZm8"
      ],
      "include_colab_link": true
    }
  },
  "nbformat": 4,
  "nbformat_minor": 0
}